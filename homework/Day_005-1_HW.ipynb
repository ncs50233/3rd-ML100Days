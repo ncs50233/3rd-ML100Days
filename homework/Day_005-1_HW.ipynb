{
 "cells": [
  {
   "cell_type": "markdown",
   "metadata": {},
   "source": [
    "# [作業目標]\n",
    "- 利用範例的創建方式, 創建一組資料, 並練習如何取出最大值"
   ]
  },
  {
   "cell_type": "markdown",
   "metadata": {},
   "source": [
    "# [作業重點]\n",
    "- 練習創立 DataFrame (In[2])\n",
    "- 如何取出口數最多的國家 (In[3], Out[3])"
   ]
  },
  {
   "cell_type": "markdown",
   "metadata": {},
   "source": [
    "## 練習時間\n",
    "在小量的資料上，我們用眼睛就可以看得出來程式碼是否有跑出我們理想中的結果\n",
    "\n",
    "請嘗試想像一個你需要的資料結構 (裡面的值可以是隨機的)，然後用上述的方法把它變成 pandas DataFrame\n",
    "\n",
    "#### Ex: 想像一個 dataframe 有兩個欄位，一個是國家，一個是人口，求人口數最多的國家\n",
    "\n",
    "### Hints: [隨機產生數值](https://blog.csdn.net/christianashannon/article/details/78867204)"
   ]
  },
  {
   "cell_type": "code",
   "execution_count": 1,
   "metadata": {},
   "outputs": [],
   "source": [
    "import pandas as pd\n",
    "import numpy as np"
   ]
  },
  {
   "cell_type": "code",
   "execution_count": 2,
   "metadata": {
    "scrolled": true
   },
   "outputs": [
    {
     "name": "stdout",
     "output_type": "stream",
     "text": [
      "       國家     人口\n",
      "0       1  38562\n",
      "1       2  11291\n",
      "2       3  35530\n",
      "3       4  90741\n",
      "4       5  29266\n",
      "5       6  96105\n",
      "6       7  45370\n",
      "7       8  18598\n",
      "8       9  30951\n",
      "9      10  72779\n",
      "10     11  93224\n",
      "11     12  58212\n",
      "12     13  57982\n",
      "13     14  52516\n",
      "14     15  13477\n",
      "15     16  80444\n",
      "16     17  21976\n",
      "17     18  60912\n",
      "18     19  88444\n",
      "19     20  45650\n",
      "20     21  52624\n",
      "21     22  79680\n",
      "22     23  97022\n",
      "23     24  21148\n",
      "24     25  15453\n",
      "25     26  77516\n",
      "26     27  92356\n",
      "27     28  17331\n",
      "28     29  30049\n",
      "29     30  75580\n",
      "..    ...    ...\n",
      "970   971  43642\n",
      "971   972  73485\n",
      "972   973  73310\n",
      "973   974  41161\n",
      "974   975  76667\n",
      "975   976  37530\n",
      "976   977  74223\n",
      "977   978  42392\n",
      "978   979  20701\n",
      "979   980  96336\n",
      "980   981  67866\n",
      "981   982  62651\n",
      "982   983  81951\n",
      "983   984  66566\n",
      "984   985  58640\n",
      "985   986  36371\n",
      "986   987  39295\n",
      "987   988  48483\n",
      "988   989  29957\n",
      "989   990  33132\n",
      "990   991  60765\n",
      "991   992  51618\n",
      "992   993  82014\n",
      "993   994  28996\n",
      "994   995  37733\n",
      "995   996  27776\n",
      "996   997  20457\n",
      "997   998  84422\n",
      "998   999  11527\n",
      "999  1000  56216\n",
      "\n",
      "[1000 rows x 2 columns]\n"
     ]
    }
   ],
   "source": [
    "random_population = np.random.randint(10000, 100000,size=1000)\n",
    "random_country = []\n",
    "for i in range(0,len(random_population)):\n",
    "    random_country.append(i + 1)\n",
    "\n",
    "data = {'國家': random_country  ,\n",
    "        '人口': random_population}\n",
    "\n",
    "data = pd.DataFrame(data)\n",
    "print(data)"
   ]
  },
  {
   "cell_type": "code",
   "execution_count": 3,
   "metadata": {
    "scrolled": true
   },
   "outputs": [
    {
     "name": "stdout",
     "output_type": "stream",
     "text": [
      "人口數最多的國家 :  188 ; 人口數 =  99886\n"
     ]
    },
    {
     "name": "stderr",
     "output_type": "stream",
     "text": [
      "D:\\Program\\Anaconda\\lib\\site-packages\\ipykernel_launcher.py:1: FutureWarning: \n",
      "The current behaviour of 'Series.argmax' is deprecated, use 'idxmax'\n",
      "instead.\n",
      "The behavior of 'argmax' will be corrected to return the positional\n",
      "maximum in the future. For now, use 'series.values.argmax' or\n",
      "'np.argmax(np.array(values))' to get the position of the maximum\n",
      "row.\n",
      "  \"\"\"Entry point for launching an IPython kernel.\n"
     ]
    }
   ],
   "source": [
    "print(\"人口數最多的國家 : \",data.iloc[data.iloc[:,1].argmax(),0], \"; 人口數 = \", data.iloc[data.iloc[:,1].argmax(),1])"
   ]
  },
  {
   "cell_type": "code",
   "execution_count": null,
   "metadata": {},
   "outputs": [],
   "source": []
  }
 ],
 "metadata": {
  "kernelspec": {
   "display_name": "Python 3",
   "language": "python",
   "name": "python3"
  },
  "language_info": {
   "codemirror_mode": {
    "name": "ipython",
    "version": 3
   },
   "file_extension": ".py",
   "mimetype": "text/x-python",
   "name": "python",
   "nbconvert_exporter": "python",
   "pygments_lexer": "ipython3",
   "version": "3.7.3"
  }
 },
 "nbformat": 4,
 "nbformat_minor": 2
}
