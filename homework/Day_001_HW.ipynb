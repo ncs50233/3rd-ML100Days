{
 "cells": [
  {
   "cell_type": "markdown",
   "metadata": {},
   "source": [
    "## 練習時間\n",
    "#### 請寫一個函式用來計算 Mean Square Error\n",
    "$ MSE = \\frac{1}{n}\\sum_{i=1}^{n}{(Y_i - \\hat{Y}_i)^2} $\n",
    "\n",
    "### Hint: [如何取平方](https://googoodesign.gitbooks.io/-ezpython/unit-1.html)"
   ]
  },
  {
   "cell_type": "markdown",
   "metadata": {},
   "source": [
    "# [作業目標]\n",
    "- 仿造範例的MAE函數, 自己寫一個MSE函數(參考上面公式)"
   ]
  },
  {
   "cell_type": "markdown",
   "metadata": {},
   "source": [
    "# [作業重點]\n",
    "- 注意程式的縮排\n",
    "- 是否能將數學公式, 轉換為 Python 的函式組合? (In[2], Out[2])"
   ]
  },
  {
   "cell_type": "code",
   "execution_count": 1,
   "metadata": {},
   "outputs": [],
   "source": [
    "# 載入基礎套件與代稱\n",
    "import numpy as np\n",
    "import matplotlib.pyplot as plt"
   ]
  },
  {
   "cell_type": "code",
   "execution_count": 2,
   "metadata": {},
   "outputs": [],
   "source": [
    "def mean_absolute_error(y, yp):\n",
    "    \"\"\"\n",
    "    計算 MAE\n",
    "    Args:\n",
    "        - y: 實際值\n",
    "        - yp: 預測值\n",
    "    Return:\n",
    "        - mae: MAE\n",
    "    \"\"\"\n",
    "    mae = MAE = sum(abs(y - yp)) / len(y)\n",
    "    return mae\n",
    "\n",
    "# 定義 mean_squared_error 這個函數, 計算並傳回 MSE\n",
    "def mean_squared_error(y, yp):\n",
    "    \"\"\"\n",
    "    計算 MSE\n",
    "    Args:\n",
    "        - y: 實際值\n",
    "        - yp: 預測值\n",
    "    Return:\n",
    "        - mse: MSE\n",
    "    \"\"\"\n",
    "    mse = MSE = sum(abs(y - yp) ** 2) / len(y)\n",
    "    return mse"
   ]
  },
  {
   "cell_type": "code",
   "execution_count": 3,
   "metadata": {},
   "outputs": [
    {
     "data": {
      "image/png": "[encoded data removed]",
      "text/plain": [
       "<Figure size 432x288 with 1 Axes>"
      ]
     },
     "metadata": {
      "needs_background": "light"
     },
     "output_type": "display_data"
    }
   ],
   "source": [
    "# 與範例相同, 不另外解說\n",
    "w = 3\n",
    "b = 0.5\n",
    "x_lin = np.linspace(0, 100, 101)\n",
    "y = (x_lin + np.random.randn(101) * 5) * w + b\n",
    "\n",
    "plt.plot(x_lin, y, 'b.', label = 'data points')\n",
    "plt.title(\"Assume we have data points\")\n",
    "plt.legend(loc = 2)\n",
    "plt.show()"
   ]
  },
  {
   "cell_type": "code",
   "execution_count": 4,
   "metadata": {},
   "outputs": [
    {
     "data": {
      "image/png": "[encoded data removed]",
      "text/plain": [
       "<Figure size 432x288 with 1 Axes>"
      ]
     },
     "metadata": {
      "needs_background": "light"
     },
     "output_type": "display_data"
    }
   ],
   "source": [
    "# 與範例相同, 不另外解說\n",
    "y_hat = x_lin * w + b\n",
    "plt.plot(x_lin, y, 'b.', label = 'data')\n",
    "plt.plot(x_lin, y_hat, 'r-', label = 'prediction')\n",
    "plt.title(\"Assume we have data points (And the prediction)\")\n",
    "plt.legend(loc = 2)\n",
    "plt.show()"
   ]
  },
  {
   "cell_type": "code",
   "execution_count": 5,
   "metadata": {},
   "outputs": [
    {
     "name": "stdout",
     "output_type": "stream",
     "text": [
      "The Mean squared error is 283.423\n",
      "The Mean absolute error is 12.757\n"
     ]
    }
   ],
   "source": [
    "# 執行 Function, 確認有沒有正常執行\n",
    "MSE = mean_squared_error(y, y_hat)\n",
    "MAE = mean_absolute_error(y, y_hat)\n",
    "print(\"The Mean squared error is %.3f\" % (MSE))\n",
    "print(\"The Mean absolute error is %.3f\" % (MAE))"
   ]
  },
  {
   "cell_type": "markdown",
   "metadata": {},
   "source": [
    "# [作業2]\n",
    "\n",
    "請上 Kaggle, 在 Competitions 或 Dataset 中找一組競賽或資料並寫下：\n",
    "https://www.kaggle.com/aaron7sun/stocknews\n",
    "\n",
    "1. 你選的這組資料為何重要\n",
    "\n",
    "    Ans: '重要'的定義因人而異，正義感強烈的人認為重要的定義是對世界有貢獻；野心勃勃的人認為重要的意思是能引導世界的走向；有趣的人認為\n",
    "    好玩才是重要的唯一準則 ; 但我只是個世俗的人，我認為只要能賺錢的就是重要的。大多數的人，收入可以大致分為兩類，一類是薪資，另一類是投資收\n",
    "    收益。薪資變動程度不大，但投資收益卻可因為標的、時機......而有所變動。因此，這組股票市場的數據之所以重要是因為透過此資料，我們有可能\n",
    "    可以增加自身的投資收益，享受更富裕的生活。\n",
    "    \n",
    "2. 資料從何而來 (tips: 譬如提供者是誰、以什麼方式蒐集)\n",
    "\n",
    "    Ans: 本資料的提供者為Kaggle網站上的'Aaron7son'。此組資料可分成兩部分:新聞資料以及Dow Jones Industrial Average資料。\n",
    "    新聞資料來源是 Reddit WorldNews Channel，透過爬蟲方式收集; Dow Jones Industrial Average 是從Yahoo Finance上下載。\n",
    "    \n",
    "    \n",
    "3. 蒐集而來的資料型態為何\n",
    "\n",
    "    Ans: 蒐集來的資料是結構化資料。\n",
    "    \n",
    "\n",
    "4. 這組資料想解決的問題如何評估\n",
    "\n",
    "    Ans: 本資料想解決的問題是預測Dow Jones Industrial Average的價格走勢，評估方式可以使用MSE、MAE、AUC。\n",
    "    除此之外，若是使用迴歸方式預測則可看adjusted R square; 若是使用迴歸方式預測則可看F1 score。\n",
    "    \n",
    "\n",
    "# [作業3]\n",
    "\n",
    "想像你經營一個自由載客車隊，你希望能透過數據分析以提升業績，請你思考並描述你如何規劃整體的分析/解決方案：\n",
    "\n",
    "1. 核心問題為何 (tips：如何定義 「提升業績 & 你的假設」)\n",
    "\n",
    "    Ans:「提升業績」可定義為營收的成長率。許多因素都可能影響業績的變化，下列是我的假設:\n",
    "        1. 營收成長率和品牌形象(用Google Search Volume Index)正相關。\n",
    "        2. 營收成長率和顧客滿意度正相關。\n",
    "        \n",
    "\n",
    "2. 資料從何而來 (tips：哪些資料可能會對你想問的問題產生影響 & 資料如何蒐集)\n",
    "\n",
    "    Ans: Google Search Volume Index可以在Google trends網站上下載，為結構化資料; 顧客滿意度可以利用問卷調查的方式蒐集，為結構化資料。\n",
    "    \n",
    "    \n",
    "\n",
    "3. 蒐集而來的資料型態為何\n",
    "\n",
    "    Ans: Google Search Volume Index為結構化資料; 顧客滿意度為結構化資料。\n",
    "\n",
    "\n",
    "4. 你要回答的問題，其如何評估 (tips：你的假設如何驗證)\n",
    "\n",
    "    Ans: 驗證假設最簡單的方式是利用多元線性迴歸模型，除了可以檢定迴歸係數的顯著性，以及觀察迴歸係數的正負是否與假設相符外，\n",
    "    也可參考adjusted R square的大小以及F統計量來判斷迴規模型的整體適合度。\n"
   ]
  },
  {
   "cell_type": "code",
   "execution_count": null,
   "metadata": {},
   "outputs": [],
   "source": []
  }
 ],
 "metadata": {
  "anaconda-cloud": {},
  "kernelspec": {
   "display_name": "Python 3",
   "language": "python",
   "name": "python3"
  },
  "language_info": {
   "codemirror_mode": {
    "name": "ipython",
    "version": 3
   },
   "file_extension": ".py",
   "mimetype": "text/x-python",
   "name": "python",
   "nbconvert_exporter": "python",
   "pygments_lexer": "ipython3",
   "version": "3.6.8"
  }
 },
 "nbformat": 4,
 "nbformat_minor": 1
}
